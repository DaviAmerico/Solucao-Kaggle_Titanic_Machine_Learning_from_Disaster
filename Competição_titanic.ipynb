{
  "nbformat": 4,
  "nbformat_minor": 0,
  "metadata": {
    "colab": {
      "name": "Competição_titanic.ipynb",
      "provenance": [],
      "collapsed_sections": [],
      "mount_file_id": "17Da1dDqgp5gRYE9jtSqWJQZ6Q3fMn0MU",
      "authorship_tag": "ABX9TyMcErmJ3TI82Zb5noWhQins",
      "include_colab_link": true
    },
    "kernelspec": {
      "name": "python3",
      "display_name": "Python 3"
    }
  },
  "cells": [
    {
      "cell_type": "markdown",
      "metadata": {
        "id": "view-in-github",
        "colab_type": "text"
      },
      "source": [
        "<a href=\"https://colab.research.google.com/github/DaviAmerico/Solucao-Kaggle_Titanic_Machine_Learning_from_Disaster/blob/main/Competi%C3%A7%C3%A3o_titanic.ipynb\" target=\"_parent\"><img src=\"https://colab.research.google.com/assets/colab-badge.svg\" alt=\"Open In Colab\"/></a>"
      ]
    },
    {
      "cell_type": "markdown",
      "metadata": {
        "id": "ujHGGbqCTcWD"
      },
      "source": [
        "# Resolução da competição Titanic - Machine Learning from Disaster"
      ]
    },
    {
      "cell_type": "markdown",
      "metadata": {
        "id": "U0GycV98Th8L"
      },
      "source": [
        "Nosso objetivo aqui é criar um modelo que prevê se um dado passageiro com determinadas características sobreviverá ao naufrágio do Titanic , temos , portanto , um problema de classificação a ser resolvido.Essa resolução será divida em três tópicos : **Limpeza dos dados** , **Transformações** , **Criação do modelo**."
      ]
    },
    {
      "cell_type": "markdown",
      "metadata": {
        "id": "Og5SDZTUUfUg"
      },
      "source": [
        "**Limpeza dos dados:**\r\n"
      ]
    },
    {
      "cell_type": "markdown",
      "metadata": {
        "id": "fSEs4VoBUlZK"
      },
      "source": [
        "Essa seção consiste em verificar se existe valores faltantes (*nan's*), e, se caso exista, substituir os *nan's* presentes nos dados , pois a presença deles acabam impossibilitando/prejudicando a criação de um modelo."
      ]
    },
    {
      "cell_type": "markdown",
      "metadata": {
        "id": "w8RDC1luVdGk"
      },
      "source": [
        "Antes disso vamos importar os dados para um Pandas DataFrame no Python e dar uma rápida visualizada nos mesmos:"
      ]
    },
    {
      "cell_type": "code",
      "metadata": {
        "colab": {
          "base_uri": "https://localhost:8080/"
        },
        "id": "_T9BMBNNVnNl",
        "outputId": "72d18efb-41b2-44c0-8dfd-258a31c8d939"
      },
      "source": [
        "import pandas as pd\r\n",
        "import numpy as np\r\n",
        "from sklearn.preprocessing import LabelEncoder\r\n",
        "from sklearn.ensemble import RandomForestClassifier\r\n",
        "from sklearn.preprocessing import StandardScaler\r\n",
        "from sklearn.model_selection import RandomizedSearchCV\r\n",
        "train=pd.read_csv('/content/drive/MyDrive/train1.csv')\r\n",
        "test=pd.read_csv('/content/drive/MyDrive/test1.csv')\r\n",
        "print(train.head(),'\\n','\\n','\\n')\r\n",
        "print(test.head())"
      ],
      "execution_count": 80,
      "outputs": [
        {
          "output_type": "stream",
          "text": [
            "   PassengerId  Survived  Pclass  ...     Fare Cabin  Embarked\n",
            "0            1         0       3  ...   7.2500   NaN         S\n",
            "1            2         1       1  ...  71.2833   C85         C\n",
            "2            3         1       3  ...   7.9250   NaN         S\n",
            "3            4         1       1  ...  53.1000  C123         S\n",
            "4            5         0       3  ...   8.0500   NaN         S\n",
            "\n",
            "[5 rows x 12 columns] \n",
            " \n",
            " \n",
            "\n",
            "   PassengerId  Pclass  ... Cabin Embarked\n",
            "0          892       3  ...   NaN        Q\n",
            "1          893       3  ...   NaN        S\n",
            "2          894       2  ...   NaN        Q\n",
            "3          895       3  ...   NaN        S\n",
            "4          896       3  ...   NaN        S\n",
            "\n",
            "[5 rows x 11 columns]\n"
          ],
          "name": "stdout"
        }
      ]
    },
    {
      "cell_type": "markdown",
      "metadata": {
        "id": "YfuaDMTLWhf5"
      },
      "source": [
        "O conjunto *train* será o conjunto usado para ensinar ao modelo se um determinado passageiro sobreviverá, já o conjunto *test* é o conjunto de passageiros que queremos prever se sobreviverão ou não, portanto esse conjunto não contém a variável resposta, por esse motivo que ele contém uma coluna a menos que *train*. "
      ]
    },
    {
      "cell_type": "markdown",
      "metadata": {
        "id": "O4BKjeuTXVoN"
      },
      "source": [
        "Como podemos ver há alguns valores faltantes em ambos os dados, agora vamos verificar quantos são em cada um:"
      ]
    },
    {
      "cell_type": "code",
      "metadata": {
        "colab": {
          "base_uri": "https://localhost:8080/"
        },
        "id": "p-zAs3QLXbi9",
        "outputId": "6b046b22-a510-4e19-da86-afd5226543a8"
      },
      "source": [
        "###Total de NAN's no treino e teste:\r\n",
        "print(train.isna().sum().sum())\r\n",
        "print(test.isna().sum().sum())"
      ],
      "execution_count": 81,
      "outputs": [
        {
          "output_type": "stream",
          "text": [
            "866\n",
            "414\n"
          ],
          "name": "stdout"
        }
      ]
    },
    {
      "cell_type": "markdown",
      "metadata": {
        "id": "ek0qC95GeHkv"
      },
      "source": [
        "Agora vamos substituir esses *nan's*, para os *nan's* de colunas númericas será atribuido a média da coluna e para os de colunas categóricas será atribuido o valor mais frequente da coluna, então:"
      ]
    },
    {
      "cell_type": "code",
      "metadata": {
        "id": "UdThgAkCenHz"
      },
      "source": [
        "###Substituindo NAN's numericos:\r\n",
        "train.fillna(train.mean(),inplace=True)\r\n",
        "test.fillna(test.mean(),inplace=True)\r\n",
        "###Substituindo NAN's categoricos:\r\n",
        "for i in train.select_dtypes('object').columns:##nao precisamos fazer um for para cada dado pq a resposta nao esta categorizada\r\n",
        "    train.loc[:,i].fillna(train.loc[:,i].value_counts().index[0],inplace=True)\r\n",
        "    test.loc[:,i].fillna(test.loc[:,i].value_counts().index[0],inplace=True)"
      ],
      "execution_count": 82,
      "outputs": []
    },
    {
      "cell_type": "markdown",
      "metadata": {
        "id": "ShJClcCye-yP"
      },
      "source": [
        "Podemos verificar agora que não existem mais valores faltantes:"
      ]
    },
    {
      "cell_type": "code",
      "metadata": {
        "colab": {
          "base_uri": "https://localhost:8080/"
        },
        "id": "yN0lIrhYfC14",
        "outputId": "c8bba49e-13c4-41b8-dec8-0d1c9ce05d96"
      },
      "source": [
        "print(train.isna().sum().sum())\r\n",
        "print(test.isna().sum().sum())"
      ],
      "execution_count": 78,
      "outputs": [
        {
          "output_type": "stream",
          "text": [
            "0\n",
            "0\n"
          ],
          "name": "stdout"
        }
      ]
    },
    {
      "cell_type": "markdown",
      "metadata": {
        "id": "g-CCkB9XfpBP"
      },
      "source": [
        "**Transformações:**\r\n"
      ]
    },
    {
      "cell_type": "markdown",
      "metadata": {
        "id": "uwOQE992fthK"
      },
      "source": [
        "Nessa seção iremos iremos numerizar os dados , separar os preditores da variável resposta e depois normalizar os preditores. "
      ]
    },
    {
      "cell_type": "markdown",
      "metadata": {
        "id": "0-v3x4ZLgbyh"
      },
      "source": [
        "Transformando os dados em numéricos:"
      ]
    },
    {
      "cell_type": "code",
      "metadata": {
        "colab": {
          "base_uri": "https://localhost:8080/"
        },
        "id": "9LbiG01CgNeo",
        "outputId": "bb64a7f5-22c0-4f8a-82e2-468622df5b13"
      },
      "source": [
        "for i in train.select_dtypes('object').columns:##nao faz diferença pq a resposta nao esta categorizada\r\n",
        "  train.loc[:,i]=LabelEncoder().fit_transform(train.loc[:,i].astype('str'))\r\n",
        "  if i=='Name':\r\n",
        "    a=LabelEncoder()##futuramente precisarei disso para saber quem irá sobreviver\r\n",
        "    test.loc[:,i]=a.fit_transform(test.loc[:,i].astype('str'))\r\n",
        "  else:\r\n",
        "    test.loc[:,i]=LabelEncoder().fit_transform(test.loc[:,i].astype('str'))\r\n",
        "##Agora podemos ver que cada atributo é numerico:\r\n",
        "print(train,'\\n','\\n','\\n')\r\n",
        "print(test)"
      ],
      "execution_count": 83,
      "outputs": [
        {
          "output_type": "stream",
          "text": [
            "     PassengerId  Survived  Pclass  Name  ...  Ticket     Fare  Cabin  Embarked\n",
            "0              1         0       3   108  ...     523   7.2500    145         2\n",
            "1              2         1       1   190  ...     596  71.2833     81         0\n",
            "2              3         1       3   353  ...     669   7.9250    145         2\n",
            "3              4         1       1   272  ...      49  53.1000     55         2\n",
            "4              5         0       3    15  ...     472   8.0500    145         2\n",
            "..           ...       ...     ...   ...  ...     ...      ...    ...       ...\n",
            "886          887         0       2   548  ...     101  13.0000    145         2\n",
            "887          888         1       1   303  ...      14  30.0000     30         2\n",
            "888          889         0       3   413  ...     675  23.4500    145         2\n",
            "889          890         1       1    81  ...       8  30.0000     60         0\n",
            "890          891         0       3   220  ...     466   7.7500    145         1\n",
            "\n",
            "[891 rows x 12 columns] \n",
            " \n",
            " \n",
            "\n",
            "     PassengerId  Pclass  Name  Sex  ...  Ticket      Fare  Cabin  Embarked\n",
            "0            892       3   206    1  ...     152    7.8292     15         1\n",
            "1            893       3   403    0  ...     221    7.0000     15         2\n",
            "2            894       2   269    1  ...      73    9.6875     15         1\n",
            "3            895       3   408    1  ...     147    8.6625     15         2\n",
            "4            896       3   178    0  ...     138   12.2875     15         2\n",
            "..           ...     ...   ...  ...  ...     ...       ...    ...       ...\n",
            "413         1305       3   353    1  ...     267    8.0500     15         2\n",
            "414         1306       1   283    0  ...     324  108.9000     22         0\n",
            "415         1307       3   332    1  ...     346    7.2500     15         2\n",
            "416         1308       3   384    1  ...     220    8.0500     15         2\n",
            "417         1309       3   302    1  ...     105   22.3583     15         0\n",
            "\n",
            "[418 rows x 11 columns]\n"
          ],
          "name": "stdout"
        }
      ]
    },
    {
      "cell_type": "markdown",
      "metadata": {
        "id": "KK3b4nYZholQ"
      },
      "source": [
        "Separando os preditores da resposta:"
      ]
    },
    {
      "cell_type": "code",
      "metadata": {
        "id": "5Cu2Ej4WhsKJ"
      },
      "source": [
        "aux=train.columns[train.columns!='Survived']\r\n",
        "xt=train.loc[:,aux]##Preditores no conjunto train\r\n",
        "yt=train.loc[:,'Survived']##Resposta no conjunto train\r\n",
        "xte=test##Preditores no conjunto test"
      ],
      "execution_count": 84,
      "outputs": []
    },
    {
      "cell_type": "markdown",
      "metadata": {
        "id": "pxZDCmdjhvK4"
      },
      "source": [
        "Normalizando os preditores:"
      ]
    },
    {
      "cell_type": "code",
      "metadata": {
        "colab": {
          "base_uri": "https://localhost:8080/"
        },
        "id": "WIluit6Lh07R",
        "outputId": "03fd2981-fd14-4de0-b46b-f95f1c1a0818"
      },
      "source": [
        "zt=pd.DataFrame(StandardScaler().fit_transform(xt))##Preditores normalizados no conjunto train\r\n",
        "zt.columns=xt.columns\r\n",
        "zte=pd.DataFrame(StandardScaler().fit_transform(xte))##Preditores normalizados no conjunto test\r\n",
        "zte.columns=xte.columns\r\n",
        "##Observe agora que os preditores nos conjuntos train e test estão normalizados:\r\n",
        "print(zt.head(),'\\n','\\n','\\n')\r\n",
        "print(zte.head(),'\\n','\\n','\\n')"
      ],
      "execution_count": 85,
      "outputs": [
        {
          "output_type": "stream",
          "text": [
            "   PassengerId    Pclass      Name  ...      Fare     Cabin  Embarked\n",
            "0    -1.730108  0.827377 -1.310217  ... -0.502445  0.447397  0.585954\n",
            "1    -1.726220 -1.566107 -0.991410  ...  0.786845 -1.365075 -1.942303\n",
            "2    -1.722332  0.827377 -0.357685  ... -0.488854  0.447397  0.585954\n",
            "3    -1.718444 -1.566107 -0.672604  ...  0.420730 -2.101392  0.585954\n",
            "4    -1.714556  0.827377 -1.671790  ... -0.486337  0.447397  0.585954\n",
            "\n",
            "[5 rows x 11 columns] \n",
            " \n",
            " \n",
            "\n",
            "   PassengerId    Pclass      Name  ...      Fare    Cabin  Embarked\n",
            "0    -1.727912  0.873482 -0.020718  ... -0.498407 -0.35149 -0.470915\n",
            "1    -1.719625  0.873482  1.611889  ... -0.513274 -0.35149  0.700767\n",
            "2    -1.711337 -0.315819  0.501385  ... -0.465088 -0.35149 -0.470915\n",
            "3    -1.703050  0.873482  1.653326  ... -0.483466 -0.35149  0.700767\n",
            "4    -1.694763  0.873482 -0.252764  ... -0.418471 -0.35149  0.700767\n",
            "\n",
            "[5 rows x 11 columns] \n",
            " \n",
            " \n",
            "\n"
          ],
          "name": "stdout"
        }
      ]
    },
    {
      "cell_type": "markdown",
      "metadata": {
        "id": "q8ju4suMiu3w"
      },
      "source": [
        "Agora já podemos criar o nosso modelo."
      ]
    },
    {
      "cell_type": "markdown",
      "metadata": {
        "id": "iHneyXmHi_fH"
      },
      "source": [
        "**Criação do modelo:**\r\n"
      ]
    },
    {
      "cell_type": "markdown",
      "metadata": {
        "id": "rHZhOH13jkzI"
      },
      "source": [
        "Aqui usaremos um modelo bagging de Ensemble Learning chamado RandomForest, esse é um modelo baseado em várias árvores de decisão treinadas em vários subconjuntos aleatórios dos dados , cada conjunto com um número diminuido de preditores , a previsão de uma RandomForest, no problema de classificação, será a previsão mais frequente nas árvores de decisão criadas."
      ]
    },
    {
      "cell_type": "markdown",
      "metadata": {
        "id": "f6M2RnHtrrX9"
      },
      "source": [
        "Abaixo testaremos 25 combinações de hiper-parâmetros dentro da RandomForest e buscaremos a combinação com a melhor acurácia média dentro da validação cruzada com *10 folds*, o modelo usado será o com a melhor combinação de hiper-parâmetros."
      ]
    },
    {
      "cell_type": "code",
      "metadata": {
        "id": "8LDXl_wjsLnn"
      },
      "source": [
        "rf=RandomForestClassifier()\r\n",
        "params={'bootstrap': [True, False],\r\n",
        " 'criterion':['entropy','gini'],\r\n",
        " 'max_depth': [10, 20, 30, 40, 50, 60, 70, 80, 90, 100, None],\r\n",
        " 'max_features': ['auto', 'sqrt'],\r\n",
        " 'min_samples_leaf': [1, 2, 4],\r\n",
        " 'min_samples_split': [2, 5, 10],\r\n",
        " 'n_estimators': [200, 400, 600, 800, 1000]}\r\n",
        "f=RandomizedSearchCV(rf,params,cv=10,n_iter=25,scoring='accuracy')\r\n",
        "m=f.fit(zt,yt)"
      ],
      "execution_count": 88,
      "outputs": []
    },
    {
      "cell_type": "markdown",
      "metadata": {
        "id": "fr4VhDFvsodg"
      },
      "source": [
        "Podemos ver a acurácia média do melhor modelo:"
      ]
    },
    {
      "cell_type": "code",
      "metadata": {
        "colab": {
          "base_uri": "https://localhost:8080/"
        },
        "id": "IoC6GqIfspsm",
        "outputId": "2413f948-971a-483e-d958-7c25a5d1cbc5"
      },
      "source": [
        "bs=f.best_score_\r\n",
        "print(bs)"
      ],
      "execution_count": 89,
      "outputs": [
        {
          "output_type": "stream",
          "text": [
            "0.8529837702871411\n"
          ],
          "name": "stdout"
        }
      ]
    },
    {
      "cell_type": "markdown",
      "metadata": {
        "id": "1LMalJuKss_B"
      },
      "source": [
        "Agora iremos prever quem sobreviverá ao naufrágio dentro do conjunto *test*:"
      ]
    },
    {
      "cell_type": "code",
      "metadata": {
        "colab": {
          "base_uri": "https://localhost:8080/"
        },
        "id": "kokDOJSHs41U",
        "outputId": "d27cc206-e505-48cb-cc27-4f84a1487f1b"
      },
      "source": [
        "yp=f.best_estimator_.predict(zte)\r\n",
        "print(yp)"
      ],
      "execution_count": 90,
      "outputs": [
        {
          "output_type": "stream",
          "text": [
            "[0 0 0 0 1 1 1 1 1 0 0 0 1 0 1 1 0 0 1 1 0 0 1 0 1 0 1 0 1 0 0 0 1 1 0 0 1\n",
            " 1 0 1 0 0 0 1 1 0 0 0 1 1 0 0 1 1 0 0 0 0 0 1 0 0 0 1 0 1 1 0 0 1 1 0 1 0\n",
            " 1 0 0 1 1 1 1 0 0 0 0 1 1 1 1 1 1 0 1 0 1 0 1 0 1 0 1 1 0 0 1 1 0 0 0 0 0\n",
            " 1 1 1 1 1 0 1 0 1 1 0 1 0 0 1 0 1 1 0 0 0 1 0 0 0 0 1 1 0 0 1 0 1 0 1 0 0\n",
            " 0 1 1 0 0 1 1 0 1 1 1 1 1 1 1 0 0 1 1 1 1 1 0 0 1 0 1 1 1 0 1 1 0 0 1 0 1\n",
            " 0 1 0 0 0 1 0 1 0 1 0 1 1 1 1 1 1 0 1 1 1 1 0 1 0 1 0 1 1 0 0 1 0 1 0 1 0\n",
            " 1 0 1 1 0 1 1 1 1 1 0 0 0 0 0 0 1 1 1 1 0 0 1 0 1 0 1 1 1 0 1 0 0 0 0 0 1\n",
            " 0 1 0 1 1 1 0 0 0 1 1 0 0 1 1 0 1 1 1 1 1 1 1 1 1 1 0 0 1 0 0 1 1 0 0 0 0\n",
            " 1 1 0 0 0 0 1 0 1 1 1 1 1 1 0 0 0 0 1 1 0 0 0 1 0 0 0 0 1 0 1 1 1 0 1 1 0\n",
            " 1 0 0 1 0 1 0 1 0 0 1 1 1 1 1 1 1 1 0 1 1 1 0 1 0 0 1 0 1 1 0 1 1 1 1 1 1\n",
            " 0 1 0 0 1 1 1 0 0 1 0 0 1 1 1 1 0 1 0 1 1 1 1 0 1 1 0 1 0 0 1 1 1 1 0 0 0\n",
            " 0 1 1 1 1 1 0 1 0 0 1]\n"
          ],
          "name": "stdout"
        }
      ]
    },
    {
      "cell_type": "markdown",
      "metadata": {
        "id": "hcCYjgGAvI4w"
      },
      "source": [
        "Segundo o nosso modelo os sobreviventes serão:"
      ]
    },
    {
      "cell_type": "code",
      "metadata": {
        "colab": {
          "base_uri": "https://localhost:8080/"
        },
        "id": "qd6j8Z7jvL8o",
        "outputId": "df8e9db5-4f39-473e-8ee3-9d84aac500d0"
      },
      "source": [
        "sobreviventes=((a.inverse_transform(test.loc[:,'Name']))[yp==1])\r\n",
        "print(sobreviventes)"
      ],
      "execution_count": 100,
      "outputs": [
        {
          "output_type": "stream",
          "text": [
            "['Hirvonen, Mrs. Alexander (Helga E Lindqvist)'\n",
            " 'Svensson, Mr. Johan Cervin' 'Connolly, Miss. Kate'\n",
            " 'Caldwell, Mr. Albert Francis'\n",
            " 'Abrahim, Mrs. Joseph (Sophie Halaut Easu)'\n",
            " 'Snyder, Mrs. John Pillsbury (Nelle Stevenson)'\n",
            " 'Chaffee, Mrs. Herbert Fuller (Carrie Constance Toogood)'\n",
            " 'del Carlo, Mrs. Sebastiano (Argenia Genovesi)'\n",
            " 'Ilmakangas, Miss. Ida Livija' 'Assaf Khalil, Mrs. Mariana (Miriam\")\"'\n",
            " 'Flegenheim, Mrs. Alfred (Antoinette)'\n",
            " 'Ryerson, Mrs. Arthur Larned (Emily Maria Borie)'\n",
            " 'Ostby, Miss. Helene Ragnhild' 'Brady, Mr. John Bertram'\n",
            " 'Dean, Mrs. Bertram (Eva Georgetta Light)'\n",
            " 'Johnston, Mrs. Andrew G (Elizabeth Lily\" Watson)\"' 'Roth, Miss. Sarah A'\n",
            " 'Cacic, Miss. Manda' 'Hee, Mr. Ling'\n",
            " 'Corbett, Mrs. Walter H (Irene Colvin)'\n",
            " 'Kimball, Mrs. Edwin Nelson Jr (Gertrude Parsons)'\n",
            " 'Bucknell, Mrs. William Robert (Emma Eliza Ward)'\n",
            " 'Coutts, Mrs. William (Winnie Minnie\" Treanor)\"'\n",
            " 'Hocking, Miss. Ellen Nellie\"\"' 'Fortune, Miss. Ethel Flora'\n",
            " 'Chaudanson, Miss. Victorine' 'Bradley, Miss. Bridget Delia'\n",
            " 'Corey, Mrs. Percy C (Mary Phyllis Elizabeth Miller)'\n",
            " 'Burns, Miss. Mary Delia' 'Fortune, Mrs. Mark (Mary McDougald)'\n",
            " 'Mulvihill, Miss. Bertha E' 'Nieminen, Miss. Manta Josefina'\n",
            " 'Geiger, Miss. Amalie'\n",
            " 'Cornell, Mrs. Robert Clifford (Malvina Helen Lamson)'\n",
            " 'Aldworth, Mr. Charles Augustus' 'Doyle, Miss. Elizabeth'\n",
            " 'Boulos, Master. Akar' 'Khalil, Mr. Betros' 'Barry, Miss. Julia'\n",
            " 'Badman, Miss. Emily Louisa' \"O'Donoghue, Ms. Bridget\"\n",
            " 'Wells, Master. Ralph Lester'\n",
            " 'Dyker, Mrs. Adolf Fredrik (Anna Elisabeth Judith Andersson)'\n",
            " 'Davidson, Mrs. Thornton (Orian Hays)' 'Birnbaum, Mr. Jakob'\n",
            " 'Cavendish, Mrs. Tyrell William (Julia Florence Siegel)'\n",
            " 'Braf, Miss. Elin Ester Maria'\n",
            " 'Stengel, Mrs. Charles Emil Henry (Annie May Morris)'\n",
            " 'Weisz, Mr. Leopold' 'Thomas, Mrs. Alexander (Thamine Thelma\")\"'\n",
            " 'Holthen, Mr. Johan Martin' 'Shine, Miss. Ellen Natalia'\n",
            " 'Evans, Miss. Edith Corse' 'Buckley, Miss. Katherine'\n",
            " 'Straus, Mrs. Isidor (Rosalie Ida Blun)' 'Chronopoulos, Mr. Demetrios'\n",
            " 'Sandstrom, Miss. Beatrice Irene'\n",
            " 'Chapman, Mrs. John Henry (Sara Elizabeth Lawry)' 'Watt, Miss. Bertha J'\n",
            " 'Schabert, Mrs. Paul (Emma Mock)' 'Cribb, Miss. Laura Alice'\n",
            " 'McCoy, Miss. Alicia' 'Bowenur, Mr. Solomon'\n",
            " 'Lefebre, Mrs. Frank (Frances)' 'Schmidt, Mr. August'\n",
            " 'Drapkin, Miss. Jennie' 'Daniels, Miss. Sarah'\n",
            " 'Beauchamp, Mr. Henry James' 'Vander Planke, Mr. Julius'\n",
            " 'Lahtinen, Rev. William' 'Earnshaw, Mrs. Boulton (Olive Potter)'\n",
            " 'Klasen, Mrs. (Hulda Kristina Eugenia Lofqvist)'\n",
            " 'Asplund, Master. Filip Oscar' 'Bird, Miss. Ellen'\n",
            " 'Lundin, Miss. Olga Elida' 'Borebank, Mr. John James'\n",
            " 'Peacock, Mrs. Benjamin (Edith Nile)' 'Smyth, Miss. Julia'\n",
            " 'Touma, Master. Georges Youssef' 'Wright, Miss. Marion'\n",
            " 'Kink-Heilmann, Mrs. Anton (Luise Heilmann)' 'Brandeis, Mr. Emil'\n",
            " 'Ford, Mr. Edward Watson'\n",
            " 'Cassebeer, Mrs. Henry Arthur Jr (Eleanor Genevieve Fosdick)'\n",
            " 'Hellstrom, Miss. Hilda Maria' 'Dyker, Mr. Adolf Fredrik'\n",
            " 'Asplund, Mr. Carl Oscar Vilhelm Gustafsson' 'Brown, Miss. Edith Eileen'\n",
            " 'Sincock, Miss. Maude' 'Becker, Mrs. Allen Oliver (Nellie E Baumgardner)'\n",
            " 'Compton, Mrs. Alexander Taylor (Mary Eliza Ingersoll)'\n",
            " 'Marvin, Mrs. Daniel Warner (Mary Graham Carmichael Farquarson)'\n",
            " 'Douglas, Mrs. Frederick Charles (Mary Helene Baxter)'\n",
            " 'Phillips, Miss. Alice Frances Louisa' 'Angle, Mr. William A'\n",
            " 'van Billiard, Master. Walter John' 'Drew, Master. Marshall Brines'\n",
            " 'Spedden, Master. Robert Douglas' 'Nilsson, Miss. Berta Olivia'\n",
            " 'Baimbrigge, Mr. Charles Robert'\n",
            " 'Rasmussen, Mrs. (Lena Jacobsen Solvang)' 'Murphy, Miss. Nora'\n",
            " 'Danbom, Master. Gilbert Sigvard Emanuel' 'Quick, Miss. Winifred Vera'\n",
            " 'Andrew, Mr. Frank Thomas' 'Omont, Mr. Alfred Fernand'\n",
            " 'McGowan, Miss. Katherine' 'Rosenbaum, Miss. Edith Louise'\n",
            " 'Andersen, Mr. Albert Karvin' 'Deacon, Mr. Percy William'\n",
            " 'Howard, Mrs. Benjamin (Ellen Truelove Arman)'\n",
            " 'Mahon, Miss. Bridget Delia'\n",
            " 'Widener, Mrs. George Dunton (Eleanor Elkins)'\n",
            " 'Duran y More, Miss. Florentina' 'Cook, Mrs. (Selena Rogers)'\n",
            " 'Candee, Mrs. Edward (Helen Churchill Hungerford)'\n",
            " 'Moubarek, Mrs. George (Omine Amenia\" Alexander)\"'\n",
            " 'McNeill, Miss. Bridget' 'Everett, Mr. Thomas James'\n",
            " 'Hocking, Mr. Samuel James Metcalfe' 'Sweet, Mr. George Frederick'\n",
            " 'Willard, Miss. Constance' 'Hiltunen, Miss. Marta'\n",
            " 'Douglas, Mrs. Walter Donald (Mahala Dutton)'\n",
            " 'Lindstrom, Mrs. Carl Johan (Sigrid Posse)'\n",
            " 'Christy, Mrs. (Alice Frances)'\n",
            " 'Johnston, Master. William Arthur Willie\"\"'\n",
            " 'Karnes, Mrs. J Frank (Claire Bennett)'\n",
            " 'Hold, Mrs. Stephen (Annie Margaret Hill)'\n",
            " 'Khalil, Mrs. Betros (Zahie Maria\" Elias)\"' 'West, Miss. Barbara J'\n",
            " 'Clark, Mr. Walter Miller' 'Bentham, Miss. Lilian W'\n",
            " 'de Messemaeker, Mr. Guillaume Joseph'\n",
            " 'Wells, Mrs. Arthur Henry (Addie\" Dart Trevaskis)\"'\n",
            " 'Klasen, Miss. Gertrud Emilia' 'Portaluppi, Mr. Emilio Ilario Giuseppe'\n",
            " 'Howard, Miss. May Elizabeth' 'Pokrnic, Mr. Mate'\n",
            " 'Clark, Mrs. Walter Miller (Virginia McDowell)' 'Lennon, Miss. Mary'\n",
            " 'Bryhl, Miss. Dagmar Jenny Ingeborg ' 'Parker, Mr. Clifford Richard'\n",
            " 'Faunthorpe, Mr. Harry' 'Ware, Mr. John James'\n",
            " 'Oxenham, Mr. Percy Thomas' 'Oreskovic, Miss. Jelka'\n",
            " 'Peacock, Master. Alfred Edward' 'Fleming, Miss. Honora'\n",
            " 'Touma, Miss. Maria Youssef' 'Rosblom, Miss. Salli Helena'\n",
            " 'Snyder, Mr. John Pillsbury' 'Rheims, Mr. George Alexander Lucien'\n",
            " 'Daly, Miss. Margaret Marcella Maggie\"\"' 'Laroche, Miss. Louise'\n",
            " 'Samaan, Mr. Hanna' 'Phillips, Mr. Escott Robert'\n",
            " 'McCarthy, Miss. Catherine Katie\"\"'\n",
            " 'Crosby, Mrs. Edward Gifford (Catherine Elizabeth Halstead)'\n",
            " 'Allison, Mr. Hudson Joshua Creighton' 'Aks, Master. Philip Frank'\n",
            " 'Hays, Mr. Charles Melville' 'Hansen, Mrs. Claus Peter (Jennie L Howard)'\n",
            " 'White, Mrs. John Stuart (Ella Holmes)' 'Hagardon, Miss. Kate'\n",
            " 'Jefferys, Mr. Ernest Wilfred' 'Kreuchen, Miss. Emilie'\n",
            " 'Becker, Miss. Ruth Elizabeth'\n",
            " 'Rosenshine, Mr. George (Mr George Thorne\")\"'\n",
            " 'Clarke, Mr. Charles Valentine'\n",
            " 'Davies, Mrs. John Morgan (Elizabeth Agnes Mary White) '\n",
            " 'Dulles, Mr. William Crothers' 'Nakid, Mrs. Said (Waika Mary\" Mowad)\"'\n",
            " 'de Brito, Mr. Jose Joaquim' 'Denbury, Mr. Herbert'\n",
            " 'Fillbrook, Mr. Joseph Charles'\n",
            " 'Cardeza, Mrs. James Warburton Martinez (Charlotte Wardle Drake)'\n",
            " 'van Billiard, Master. James William' 'Abelseth, Miss. Karen Marie'\n",
            " 'Botsford, Mr. William Hull'\n",
            " 'Whabee, Mrs. George Joseph (Shawneene Abi-Saab)' 'Giles, Mr. Ralph'\n",
            " 'Walcroft, Miss. Nellie' 'Greenfield, Mrs. Leo David (Blanche Strouse)'\n",
            " 'Dibden, Mr. William' 'Herman, Mr. Samuel'\n",
            " 'Dean, Miss. Elizabeth Gladys Millvina\"\"'\n",
            " 'Brown, Mrs. John Murray (Caroline Lane Lamson)'\n",
            " 'Lindell, Mrs. Edvard Bengtsson (Elin Gerda Persson)'\n",
            " 'Mallet, Mrs. Albert (Antoinette Magnin)'\n",
            " 'Ware, Mrs. John James (Florence Louise Long)'\n",
            " 'Harder, Mrs. George Achilles (Dorothy Annan)'\n",
            " 'Sage, Mrs. John (Annie Bullen)' 'Caram, Mr. Joseph'\n",
            " 'Riihivouri, Miss. Susanna Juhantytar Sanni\"\"'\n",
            " 'Gibson, Mrs. Leonard (Pauline C Boeson)' 'Pallas y Castello, Mr. Emilio'\n",
            " 'Wilson, Miss. Helen Alice' 'Dodge, Mrs. Washington (Ruth Vidaver)'\n",
            " 'Bowen, Miss. Grace Scott' 'Kink, Miss. Maria'\n",
            " 'Asplund, Master. Carl Edgar' 'Risien, Mrs. Samuel (Emma)'\n",
            " \"McNamee, Mrs. Neal (Eileen O'Leary)\" 'Wheeler, Mr. Edwin Frederick\"\"'\n",
            " 'Herman, Miss. Kate' 'Ashby, Mr. John' 'Palsson, Master. Paul Folke'\n",
            " 'Payne, Mr. Vivian Ponsonby'\n",
            " 'Lines, Mrs. Ernest H (Elizabeth Lindsey James)'\n",
            " 'Abbott, Master. Eugene Joseph' 'Kink-Heilmann, Mr. Anton'\n",
            " 'Smith, Mrs. Lucien Philip (Mary Eloise Hughes)'\n",
            " 'Frolicher-Stehli, Mrs. Maxmillian (Margaretha Emerentia Stehli)'\n",
            " 'Bonnell, Miss. Caroline' 'Gale, Mr. Harry'\n",
            " 'Gibson, Miss. Dorothy Winifred' 'Carrau, Mr. Jose Pedro'\n",
            " 'Riordan, Miss. Johanna Hannah\"\"' 'Peacock, Miss. Treasteall'\n",
            " 'Naughton, Miss. Hannah'\n",
            " 'Minahan, Mrs. William Edward (Lillian E Thorpe)'\n",
            " 'Henriksson, Miss. Jenny Lovisa' 'Oliva y Ocana, Dona. Fermina'\n",
            " 'Peter, Master. Michael J']\n"
          ],
          "name": "stdout"
        }
      ]
    },
    {
      "cell_type": "markdown",
      "metadata": {
        "id": "6TEgjO1F-pss"
      },
      "source": [
        "A proporção estimada de passageiros que sobreviverão é:"
      ]
    },
    {
      "cell_type": "code",
      "metadata": {
        "colab": {
          "base_uri": "https://localhost:8080/"
        },
        "id": "zMrx3VPf-wi_",
        "outputId": "be5af4c4-b2b7-470d-dfe4-97e6adbfb195"
      },
      "source": [
        "p=len(sobreviventes)/len(test)\r\n",
        "print(p)"
      ],
      "execution_count": 101,
      "outputs": [
        {
          "output_type": "stream",
          "text": [
            "0.5382775119617225\n"
          ],
          "name": "stdout"
        }
      ]
    }
  ]
}